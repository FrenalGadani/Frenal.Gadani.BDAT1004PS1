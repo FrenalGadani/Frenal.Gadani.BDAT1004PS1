{
 "cells": [
  {
   "cell_type": "markdown",
   "id": "504686e0",
   "metadata": {},
   "source": [
    "#### Question 6 Python \n",
    "You can turn a word into pig-Latin using the following two rules(simplified):  \n",
    "* If the word starts with a consonant, move that letter to the end and append 'ay'.  \n",
    "For example, 'happy' becomes 'appyhay' and 'pencil' becomes 'encilpay'.  \n",
    "* If the word starts with a vowel, simply append 'way' to the end of the word.  \n",
    "For example, 'enter' becomes 'enterway' and 'other' becomes 'otherway'. \n",
    "\n",
    "For our purposes, there are 5 vowels: a, e, i, o, u (so we count y as a consonant).  \n",
    "Write a function pig() that takes a word (i.e., a string) as input and returns its pigLatin form.  \n",
    "Your function should still work if the input word contains upper case characters.  \n",
    "Your output should always be lower case however.\n",
    "\n",
    "* pig('happy') --> 'appyhay'\n",
    "* pig('Enter') --> 'enterway'"
   ]
  },
  {
   "cell_type": "code",
   "execution_count": 1,
   "id": "6602c24f",
   "metadata": {},
   "outputs": [
    {
     "name": "stdout",
     "output_type": "stream",
     "text": [
      "happy - appyhay\n",
      "Enter - enterway\n",
      "Price - ricepay\n",
      "ample - ampleway\n"
     ]
    }
   ],
   "source": [
    "def pig(input_word):\n",
    "    input_word = input_word.lower()\n",
    "    if(input_word[0].lower() in 'aeiou'):    \n",
    "        return input_word+'way';    \n",
    "    else:    \n",
    "        return input_word[1:]+input_word[0]+'ay';    \n",
    "\n",
    "print('happy - ' + pig('happy'));\n",
    "print('Enter - ' + pig('Enter'));\n",
    "print('Price - ' + pig('Price'));\n",
    "print('ample - ' + pig('ample'));"
   ]
  },
  {
   "cell_type": "markdown",
   "id": "85efa751",
   "metadata": {},
   "source": [
    "#### Question 7 Python\n",
    "File bloodtype1.txt records blood-types of patients (A, B, AB, O or OO) at a clinic.  \n",
    "Write a function bldcount() that reads the file with name name and reports (i.e., prints) how many patients there are in each bloodtype. \n",
    "\n",
    "* bldcount('bloodtype.txt') -->  \n",
    "There are 10 patients of blood type A.  \n",
    "There is one patient of blood type B.  \n",
    "There are 10 patients of blood type AB.  \n",
    "There are 12 patients of blood type O.  \n",
    "There are no patients of blood type OO.  "
   ]
  },
  {
   "cell_type": "code",
   "execution_count": 2,
   "id": "b7f67bf7",
   "metadata": {},
   "outputs": [
    {
     "name": "stdout",
     "output_type": "stream",
     "text": [
      "There are 15 patients of blood type A\n",
      "There is one patient of blood type B\n",
      "There are 13 patients of blood type AB\n",
      "There are 15 patients of blood type O\n",
      "There are no patients of blood type OO\n"
     ]
    }
   ],
   "source": [
    "def bldcount(filename): \n",
    "    # open & read file\n",
    "    bfile = open(filename);\n",
    "    btext = bfile.read();\n",
    "    \n",
    "    # define blood group list\n",
    "    groupList = {'A': 0, 'B': 0, 'AB': 0, 'O': 0, 'OO': 0};\n",
    "    \n",
    "    # count blood group for each entry in the file\n",
    "    for b in btext.split(' '):\n",
    "        if b in groupList.keys():\n",
    "            groupList[b] += 1;\n",
    "            \n",
    "    # display total count of each blood group\n",
    "    for item in groupList:\n",
    "        if groupList[item] == 0:\n",
    "            print(\"There are no patients of blood type \" + item);\n",
    "        elif groupList[item] == 1:\n",
    "            print(\"There is one patient of blood type \" + item);\n",
    "        else: \n",
    "            print(\"There are \" + str(groupList[item]) + \" patients of blood type \" + item);\n",
    "\n",
    "bldcount('bloodtype1.txt')           "
   ]
  },
  {
   "cell_type": "markdown",
   "id": "c640897f",
   "metadata": {},
   "source": [
    "#### Question 8 Python\n",
    "\n",
    "Write a function curconv() that takes as input:  \n",
    "1. a currency represented using a string (e.g., 'JPY' for the Japanese Yen or 'EUR' for the Euro)  \n",
    "2. an amount  \n",
    "and then converts and returns the amount in US dollars.\n",
    "\n",
    "* curconv('EUR', 100) --> 122.96544\n",
    "* curconv('JPY', 100) --> 1.241401"
   ]
  },
  {
   "cell_type": "code",
   "execution_count": 3,
   "id": "553455f0",
   "metadata": {},
   "outputs": [
    {
     "name": "stdout",
     "output_type": "stream",
     "text": [
      "curconv('EUR', 100) - 122.96544\n",
      "curconv('JPY', 100) - 1.241401\n",
      "curconv('INR', 100) - 1.77643\n"
     ]
    }
   ],
   "source": [
    "# open & read currencies file\n",
    "file = open('currencies.txt');\n",
    "data = file.read();\n",
    "\n",
    "# split lines in data & get number of lines\n",
    "data_lines = data.splitlines();\n",
    "n = len(data_lines);\n",
    "\n",
    "# create currency list & store values\n",
    "cur_list = [];\n",
    "for i in range(n):    \n",
    "    cur_list.append(data_lines[i].split('\\t'));\n",
    "    \n",
    "# function to calculate USD amount\n",
    "def curconv(input_cur, amount):\n",
    "    amount_usd = 0.0;\n",
    "    for cur in cur_list:\n",
    "        if input_cur.upper() in cur[0]:\n",
    "            amount_usd = float(amount) * float(cur[1]); \n",
    "    return amount_usd;\n",
    "\n",
    "\n",
    "print(\"curconv('EUR', 100) - \" + str(curconv('EUR', 100)));\n",
    "print(\"curconv('JPY', 100) - \" + str(curconv('JPY', 100)));\n",
    "print(\"curconv('INR', 100) - \" + str(curconv('INR', 100)));"
   ]
  },
  {
   "cell_type": "markdown",
   "id": "3d147860",
   "metadata": {},
   "source": [
    "#### Question 9 Python\n",
    "\n",
    "Each of the following will cause an exception (an error). Identify what type of exception each will cause.\n",
    "\n",
    "* Trying to add incompatible variables, as in adding 6 + ‘a’  \n",
    "_- **TypeError**: unsupported operand type(s)_\n",
    "\n",
    "\n",
    "* Referring to the 12th item of a list that has only 10 items   \n",
    "_- **IndexError**: list index out of range_\n",
    "\n",
    "\n",
    "* Using a value that is out ofrange for a function’s input, such as calling math.sqrt(-1.0)  \n",
    "_- **ValueError**: domain error_\n",
    "\n",
    "\n",
    "* Using an undeclared variable, such as print(x) when x has not been defined  \n",
    "_- **NameError**: name 'varible' is not defined_\n",
    "\n",
    "\n",
    "* Trying to open a file that does not exist, such as mistyping the file name or looking in the wrong directory  \n",
    "_- **FileNotFoundError**: No such file or directory_"
   ]
  },
  {
   "cell_type": "markdown",
   "id": "923f9df1",
   "metadata": {},
   "source": [
    "#### Question 10 Python\n",
    "\n",
    "Encryption is the process of hiding the meaning of a text by substituting letters in the message with other letters, according to some system.  \n",
    "If the process is successful, no one but the intended recipient can understand the encrypted message.  \n",
    "Cryptanalysis refers to attempts to undo the encryption, even if some details of the encryption are unknown (for example, if an encrypted message has been intercepted).  \n",
    "The first step of cryptanalysis is often to build up a table of letter frequencies in the encrypted text.  \n",
    "Assume that the string letters is already defined as 'abcdefghijklmnopqrstuvwxyz'.   \n",
    "Write a function called frequencies() that takes a string as its only parameter, and returns a list of integers, showing the\n",
    "number of times each character appears in the text. \n",
    "Your function may ignore any characters that are not in letters.\n",
    "\n",
    "* frequencies('The quick red fox got bored and went home.') --> \n",
    "[1, 1, 1, 3, 5, 1, 1, 2, 1, 0, 1, 0, 1, 2, 4, 0, 1, 2, 0, 3, 1, 0, 1, 1, 0, 0]\n",
    "* frequencies('apple')"
   ]
  },
  {
   "cell_type": "code",
   "execution_count": 4,
   "id": "96950f0e",
   "metadata": {},
   "outputs": [
    {
     "name": "stdout",
     "output_type": "stream",
     "text": [
      "dict_values([1, 1, 1, 3, 5, 1, 1, 2, 1, 0, 1, 0, 1, 2, 4, 0, 1, 2, 0, 3, 1, 0, 1, 1, 0, 0])\n",
      "dict_values([1, 0, 0, 0, 1, 0, 0, 0, 0, 0, 0, 1, 0, 0, 0, 2, 0, 0, 0, 0, 0, 0, 0, 0, 0, 0])\n"
     ]
    }
   ],
   "source": [
    "from collections import Counter;\n",
    "chars = 'abcdefghijklmnopqrstuvwxyz';\n",
    "def frequencies(text):                \n",
    "    c = Counter();\n",
    "    \n",
    "    # set default count value for each letter in chars as 0\n",
    "    for i in chars:\n",
    "        c[i] = 0;\n",
    "    \n",
    "    # count occurance of each letter in text. To avoid case sensitivity issue, converted text to lower case\n",
    "    for i in text.lower():\n",
    "        if i in chars:\n",
    "            c[i] += 1;\n",
    "    \n",
    "    return c;\n",
    "\n",
    "\n",
    "item = frequencies('The quick red fox got bored and went home.');\n",
    "print(item.values());\n",
    "\n",
    "item = frequencies('Apple');\n",
    "print(item.values());"
   ]
  },
  {
   "cell_type": "code",
   "execution_count": null,
   "id": "9691da8b",
   "metadata": {},
   "outputs": [],
   "source": []
  },
  {
   "cell_type": "code",
   "execution_count": null,
   "id": "9e6ee75d",
   "metadata": {},
   "outputs": [],
   "source": []
  }
 ],
 "metadata": {
  "kernelspec": {
   "display_name": "Python 3 (ipykernel)",
   "language": "python",
   "name": "python3"
  },
  "language_info": {
   "codemirror_mode": {
    "name": "ipython",
    "version": 3
   },
   "file_extension": ".py",
   "mimetype": "text/x-python",
   "name": "python",
   "nbconvert_exporter": "python",
   "pygments_lexer": "ipython3",
   "version": "3.9.12"
  }
 },
 "nbformat": 4,
 "nbformat_minor": 5
}
