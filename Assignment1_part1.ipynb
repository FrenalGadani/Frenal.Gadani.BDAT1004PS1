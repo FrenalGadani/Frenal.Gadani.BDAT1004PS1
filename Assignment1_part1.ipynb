{
 "cells": [
  {
   "cell_type": "markdown",
   "id": "1b2e0829",
   "metadata": {},
   "source": [
    "#### Question 1 C#\n",
    "\n",
    "What data type is each of the following?\n",
    "* 5               _- Int_\n",
    "* 5.0             _- Float/Double_\n",
    "* 5 > 1           _- Boolean_\n",
    "* \"5\"             _- String_\n",
    "* 5 * 2           _- Int_\n",
    "* \"5\" * 2         _- invalid conversion_\n",
    "* \"5\" + \"2\"       _- string_\n",
    "* 5 / 2           _- Int_\n",
    "* 5 % 2           _- Int_\n",
    "* {5, 2, 1}       _- Array_\n",
    "* 5 == 3          _- Boolean_\n",
    "* Pi (the number) _- Double_"
   ]
  },
  {
   "cell_type": "markdown",
   "id": "338deb1b",
   "metadata": {},
   "source": [
    "#### Question 2 C# \n",
    "\n",
    "Write (and evaluate) C# expressions that answer these questions:  \n",
    "a. How many letters are there in 'Supercalifragilisticexpialidocious'?  \n",
    "b. Does 'Supercalifragilisticexpialidocious' contain 'ice' as a substring?  \n",
    "c. Which of the following words is the longest: Supercalifragilisticexpialidocious, Honorificabilitudinitatibus, or\n",
    "Bababadalgharaghtakamminarronnkonn?  \n",
    "d. Which composer comes first in the dictionary: 'Berlioz', 'Borodin', 'Brian',\n",
    " 'Bartok', 'Bellini', 'Buxtehude', 'Bernstein'. Which one comes last?"
   ]
  },
  {
   "cell_type": "code",
   "execution_count": 1,
   "id": "ae2e0415",
   "metadata": {},
   "outputs": [
    {
     "name": "stdout",
     "output_type": "stream",
     "text": [
      "Length - 34\n",
      "Does contains ice? - True\n",
      "Longest Word: Supercalifragilisticexpialidocious, Bababadalgharaghtakamminarronnkonn\n",
      "First Composer: Bartok\n",
      "Last Composer: Buxtehude\n"
     ]
    }
   ],
   "source": [
    "string str = \"Supercalifragilisticexpialidocious\";\n",
    "\n",
    "// a. How many letters are there in 'Supercalifragilisticexpialidocious'? \n",
    "Console.WriteLine(\"Length - \" + str.Length); \n",
    "\n",
    "// b. Does 'Supercalifragilisticexpialidocious' contain 'ice' as a substring?\n",
    "Console.WriteLine(\"Does contains ice? - \" + str.Contains(\"ice\")); \n",
    "\n",
    "/* c. Which of the following words is the longest: \n",
    " * Supercalifragilisticexpialidocious, Honorificabilitudinitatibus, or Bababadalgharaghtakamminarronnkonn?\n",
    " */\n",
    "string[] str1 = {\"Supercalifragilisticexpialidocious\", \"Honorificabilitudinitatibus\", \"Bababadalgharaghtakamminarronnkonn\"};\n",
    "string longestWord = \"\";\n",
    "for(int i = 0; i< str1.Length; i++)\n",
    "{\n",
    "    if(str1[i].Length > longestWord.Length)\n",
    "       longestWord = str1[i];\n",
    "    else if(str1[i].Length == longestWord.Length)\n",
    "        longestWord += \", \" + str1[i];        \n",
    "}\n",
    "Console.WriteLine(\"Longest Word: \" + longestWord);\n",
    "\n",
    "/* d. Which composer comes first in the dictionary: \n",
    " * 'Berlioz', 'Borodin', 'Brian', 'Bartok', 'Bellini', 'Buxtehude', 'Bernstein'. \n",
    " * Which one comes last?\n",
    " */\n",
    "string[] str3 = {\"Berlioz\", \"Borodin\", \"Brian\", \"Bartok\", \"Bellini\", \"Buxtehude\", \"Berlioz\"};\n",
    "Array.Sort(str3);\n",
    "Console.WriteLine(\"First Composer: \" + str3[0]);\n",
    "Console.WriteLine(\"Last Composer: \" + str3[str3.Length-1]);"
   ]
  },
  {
   "cell_type": "markdown",
   "id": "f7081a07",
   "metadata": {},
   "source": [
    "#### Question 3 C#\n",
    "\n",
    "Implement function triangleArea(a,b,c) that takes as input the lengths of the 3 sides of a triangle and returns the area of the triangle.  \n",
    "By Heron's formula, the area of a triangle with side lengths a, b, and c is Sqrt(s(s − a)(s −b)(s −c)),  \n",
    "where s = (a + b + c)/2.\n",
    "\n",
    "Eg: triangleArea(2,2,2)--> 1.7320508075688772"
   ]
  },
  {
   "cell_type": "code",
   "execution_count": 2,
   "id": "323ac354",
   "metadata": {},
   "outputs": [
    {
     "name": "stdout",
     "output_type": "stream",
     "text": [
      "Area of Triangle(2,2,2) = 1.7320508075688772\n",
      "Area of Triangle(6, 6, 6) = 15.588457268119896\n"
     ]
    }
   ],
   "source": [
    "double triangleArea(float a, float b, float c)\n",
    "{\n",
    "    double s = (a + b + c)/2.0;\n",
    "    double area = Math.Sqrt((s)*(s-a)*(s-b)*(s-c));    \n",
    "    return area;\n",
    "}\n",
    "\n",
    "double area = triangleArea(2, 2, 2);\n",
    "Console.WriteLine(\"Area of Triangle(2,2,2) = \" + area);\n",
    "\n",
    "area = triangleArea(6, 6, 6);\n",
    "Console.WriteLine(\"Area of Triangle(6, 6, 6) = \" + area);\n"
   ]
  },
  {
   "cell_type": "markdown",
   "id": "622558fe",
   "metadata": {},
   "source": [
    "#### Question 4 C#\n",
    "\n",
    "Write a program in C# Sharp to separate odd and even integers in separate arrays. "
   ]
  },
  {
   "cell_type": "code",
   "execution_count": null,
   "id": "7c5295ce",
   "metadata": {},
   "outputs": [],
   "source": [
    "Console.Write(\"Input the number of elements to be stored in the array: \");\n",
    "int n = Convert.ToInt32(Console.ReadLine());\n",
    "int[] a = new int[n];\n",
    "int even_count = 0;\n",
    "Console.WriteLine(\"Input \" + n + \" elements in the array : \");\n",
    "for(int i = 0; i < n; i++ )\n",
    "{\n",
    "    Console.Write(\"element - \" + i + \": \");\n",
    "    a[i] = Convert.ToInt32(Console.ReadLine()); \n",
    "    if(a[i]%2 == 0)\n",
    "        even_count++;\n",
    "}\n",
    "int[] even = new int[even_count];\n",
    "int[] odd = new int[a.Length - even_count];\n",
    "int k=0, j=0;\n",
    "foreach(int a1 in a)\n",
    "{\n",
    "    if(a1%2 == 0)\n",
    "        even[k++] = a1;\n",
    "    else \n",
    "        odd[j++] = a1;        \n",
    "}\n",
    "Console.WriteLine(\"\\nEven elements: \" + string.Join(\" \", even));\n",
    "Console.WriteLine(\"Odd elements: \" + string.Join(\" \", odd));"
   ]
  },
  {
   "cell_type": "markdown",
   "id": "ffffda4d",
   "metadata": {},
   "source": [
    "##### output printed from dotnetfiddle \n",
    "\n",
    "Input the number of elements to be stored in the array: 6  \n",
    "Input 6 elements in the array :   \n",
    "element - 0: 12  \n",
    "element - 1: 89  \n",
    "element - 2: 32  \n",
    "element - 3: 62  \n",
    "element - 4: 11  \n",
    "element - 5: 9  \n",
    "  \n",
    "Even elements: 12 32 62  \n",
    "Odd elements: 89 11 9  "
   ]
  },
  {
   "cell_type": "markdown",
   "id": "67533bb4",
   "metadata": {},
   "source": [
    "#### Question 5 C#\n",
    "\n",
    "a. Write a function inside(x,y,x1,y1,x2,y2) that returns True or False depending on  \n",
    "whether the point(x,y) lies in the rectangle with lower left corner (x1,y1) and upper right corner (x2,y2). \n",
    "\n",
    "* inside(1,1,0,0,2,3) -- True\n",
    "* inside(-1,-1,0,0,2,3) -- False\n",
    "\n",
    "b. Use function inside()from part a. to write an expression that tests whether the point (1,1) lies in both of the following rectangles:  \n",
    "one with lower left corner (0.3, 0.5) and upper right corner (1.1, 0.7) and  \n",
    "the other with lower left corner (0.5, 0.2) and upper right corner (1.1, 2)\n"
   ]
  },
  {
   "cell_type": "code",
   "execution_count": 4,
   "id": "1904e35a",
   "metadata": {},
   "outputs": [
    {
     "name": "stdout",
     "output_type": "stream",
     "text": [
      "x \t y \t x1 \t y1 \t x2 \t y2 \t Inside rectangle\n",
      "1 \t 1 \t 0 \t 0 \t 2 \t 3 \t True\n",
      "-1 \t -1 \t 0 \t 0 \t 2 \t 3 \t False\n",
      "1 \t 1 \t 0.3 \t 0.5 \t 1.1 \t 0.7 \t False\n",
      "1 \t 1 \t 0.5 \t 0.2 \t 1.1 \t 2 \t True\n"
     ]
    }
   ],
   "source": [
    "bool inside(double x, double y, double x1, double y1, double x2, double y2)\n",
    "{\n",
    "    //checks whether value x lies between x1 & x2 and  value y lies between y1 & y2\n",
    "    if(x > x1 && x < x2 && y > y1 && y < y2)\n",
    "        return true;\n",
    "    else\n",
    "        return false;\n",
    "}\n",
    "Console.WriteLine(\"x \\t y \\t x1 \\t y1 \\t x2 \\t y2 \\t Inside rectangle\");\n",
    "Console.WriteLine(\"1 \\t 1 \\t 0 \\t 0 \\t 2 \\t 3 \\t \" + inside(1, 1, 0, 0, 2, 3));\n",
    "Console.WriteLine(\"-1 \\t -1 \\t 0 \\t 0 \\t 2 \\t 3 \\t \" + inside(-1, -1, 0, 0, 2, 3));\n",
    "\n",
    "Console.WriteLine(\"1 \\t 1 \\t 0.3 \\t 0.5 \\t 1.1 \\t 0.7 \\t \" + inside(1, 1, 0.3, 0.5, 1.1, 0.7));\n",
    "Console.WriteLine(\"1 \\t 1 \\t 0.5 \\t 0.2 \\t 1.1 \\t 2 \\t \" + inside(1, 1, 0.5, 0.2, 1.1, 2));"
   ]
  },
  {
   "cell_type": "code",
   "execution_count": null,
   "id": "eea9ca37",
   "metadata": {},
   "outputs": [],
   "source": []
  }
 ],
 "metadata": {
  "kernelspec": {
   "display_name": ".NET (C#)",
   "language": "C#",
   "name": ".net-csharp"
  },
  "language_info": {
   "file_extension": ".cs",
   "mimetype": "text/x-csharp",
   "name": "C#",
   "pygments_lexer": "csharp",
   "version": "8.0"
  }
 },
 "nbformat": 4,
 "nbformat_minor": 5
}
